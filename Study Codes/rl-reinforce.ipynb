{
  "cells": [
    {
      "cell_type": "markdown",
      "metadata": {
        "id": "AVTTc1eEE-h2"
      },
      "source": [
        "# REINFORCE in Python"
      ]
    },
    {
      "cell_type": "markdown",
      "metadata": {
        "id": "wlcooZdcE-h5"
      },
      "source": [
        "### 패키지 import\n",
        "의존성 있는 패키지인 ``` numpy ```, ``` tensorflow ```, ``` keras ```를 import해야 한다.  \n",
        "  \n",
        "참고: keras는 단독으로 import하지 않고 반드시 ``` import tensorflow.keras as keras ```와 같이 ``` tensorflow ```를 통해 import해야 잠재적인 오류를 예방할 수 있다.  \n",
        "\n",
        "주어진 모듈을 설치하기 위해서는 `pip install numpy`, `pip install tensorflow`를 실행하자."
      ]
    },
    {
      "cell_type": "code",
      "execution_count": 1,
      "metadata": {
        "id": "-hm_1nH0E-h6"
      },
      "outputs": [],
      "source": [
        "import numpy as np\n",
        "import tensorflow as tf\n",
        "import tensorflow.keras as keras"
      ]
    },
    {
      "cell_type": "markdown",
      "metadata": {},
      "source": [
        "## Policy Gradient - REINFORCE\n",
        "### Model Building\n",
        "REINFORCE는 Monte-Carlo 방식으로 policy-based learning을 진행하는 on-policy 강화학습법이다.  \n",
        "  \n",
        "먼저 늘 그렇듯 Policy Gradient(PG)를 위한 neural network를 정의하여야 한다. 기존에 작성하였던 방식은 `keras.Sequential`을 이용한 순차지향적 방식이었으나, 이번에는 조금 다르게 객체지향적 방식으로 `keras.Model` 클래스를 상속해 코드를 작성해 보겠다.\n",
        "\n",
        "객체지향 방식은 간단하다. `keras.Model` 클래스를 상속한 후 `call(self, inputs)` 메서드를 구현해 주면 된다. 이때 neural net을 함수처럼 쌓아 주는 식으로 구현하면 편하다. 아래의 클래스 생성자에서 각각의 파라미터는 다음을 뜻한다.\n",
        "\n",
        "* ``` l_rate ```는 학습률을 나타낸다.\n",
        "* ``` n_actions ```는 tabular action의 개수를 나타낸다.\n",
        "* ``` input_dims ```는 state의 feature dimension이다."
      ]
    },
    {
      "cell_type": "code",
      "execution_count": 2,
      "metadata": {},
      "outputs": [],
      "source": [
        "class ReinforceNetwork(keras.Model):\n",
        "    def __init__(self, l_rate, n_actions, input_dims):\n",
        "        super(ReinforceNetwork, self).__init__() # 상위 클래스의 생성자 호출\n",
        "        self.l_rate     = l_rate\n",
        "        self.n_actions  = n_actions\n",
        "        self.input_dims = input_dims\n",
        "\n",
        "        self.layer1 = keras.layers.Dense(64, activation='relu')\n",
        "        self.layer2 = keras.layers.Dense(64, activation='relu')\n",
        "        self.layer3 = keras.layers.Dense(n_actions, activation='softmax') # 확률이 출력이므로 activation = 'softmax'\n",
        "\n",
        "        self.compile(optimizer=keras.optimizers.Adam(learning_rate=l_rate))\n",
        "\n",
        "    def call(self, inputs):\n",
        "        mid1 = self.layer1(inputs)\n",
        "        mid2 = self.layer2(mid1)\n",
        "        return self.layer3(mid2)"
      ]
    },
    {
      "cell_type": "markdown",
      "metadata": {},
      "source": [
        "위의 `ReinforceNetwork` 클래스를 활용해 REINFORCE 강화학습을 진행하는 `EpisodicReinforceAgent` 클래스를 정의한다. 이 코드에서 PG는 **episodic reward**를 reward function으로 설정하였다. 정책 $\\pi_\\theta$에서 reward function $J(\\theta)$는 다음과 같이 정의된다.\n",
        "\n",
        "$$ J(\\theta) = \\mathbb{E}_{S_0 \\sim d_0, \\pi_\\theta}\\left[ \\sum_{t=0}^{\\infty}{\\gamma^t R_{t+1}} \\right] = \\mathbb{E}_{S_0 \\sim d_0, \\pi_\\theta}\\left[ G_0 \\right] = \\mathbb{E}_{S_0 \\sim d_0}\\left[ v_{\\pi_\\theta} (S_0) \\right] $$\n",
        "\n",
        "Policy Gradient Theorem(episodic)에 의하여, 위 식의 그래디언트인 $\\nabla_\\theta J(\\theta)$ 는 다음과 같다.\n",
        "\n",
        "$$ \\nabla_\\theta J(\\theta) = \\mathbb{E}_{\\pi_\\theta} \\left[ \\left. \\sum_{t=0}^{T}{\\gamma^t q_{\\pi_\\theta}(S_t, A_t) \\nabla_\\theta \\log \\pi_\\theta (A_t \\mid S_t)} \\right| S_0 \\sim d_0 \\right]$$\n",
        "\n",
        "이때 $q_{\\pi_\\theta}(S_t, A_t) = \\mathbb{E}_{\\pi_\\theta}\\left[ \\left. G_t \\right| S_t, A_t \\right]$ 이므로 지금과 같은 stochastic 조건 하에서 $q_{\\pi_\\theta}(S_t, A_t) \\approx G_t$ 로 간주할 수 있다. 또한 일반적으로 $\\gamma^t$ 항은 생략한다. 따라서 업데이트는 다음과 같이 이루어진다.\n",
        "\n",
        "$$ t \\in \\{ 0, 1, ..., N \\}: \\theta \\leftarrow \\theta + \\alpha G_t \\nabla_\\theta \\log \\pi_\\theta (A_t \\mid S_t) $$"
      ]
    },
    {
      "cell_type": "code",
      "execution_count": 3,
      "metadata": {},
      "outputs": [],
      "source": [
        "def categoricalSelect(L):\n",
        "    ''' L[i] 확률로 i를 반환하는 함수. 어떠한 i에도 해당하지 않으면 0 반환. 0 <= sum(L) <= 1인 경우에만 정의됨.'''\n",
        "    L = list(tf.squeeze(L))\n",
        "    pick = np.random.random()\n",
        "    cumul = 0\n",
        "\n",
        "    for i, pi in enumerate(L):\n",
        "        if (cumul <= pick < cumul + float(pi)):\n",
        "            return i\n",
        "        cumul += pi\n",
        "\n",
        "    return 0\n",
        "\n",
        "class ReinforceAgent:\n",
        "    def __init__(self, input_dims, l_rate, gamma, n_actions, filename):\n",
        "        # PG 특성상 epsilon은 사용하지 아니함\n",
        "        self.read_only = False\n",
        "    \n",
        "        self.gamma = gamma\n",
        "        self.action = [i for i in range(n_actions)]\n",
        "\n",
        "        self.policy = ReinforceNetwork(l_rate, n_actions, input_dims)\n",
        "\n",
        "        # 하나의 episode에 대하여만 행동을 기록하는 배열\n",
        "        self.state, self.action, self.reward = \\\n",
        "            list(), list(), list()\n",
        "\n",
        "        # model 저장용\n",
        "        self.filename = filename\n",
        "    \n",
        "    def choose_action(self, obs):\n",
        "        ''' 내부 stochastic policy인 `self.policy`를 토대로 action 결정 '''\n",
        "        state = np.array([obs], dtype=np.float32) # 관찰 결과를 numpy 스타일로 변환 (tf.convert_to_tensor도 ok)\n",
        "        pr = self.policy(state) # 신경망으로 전달, 확률 pr에 저장\n",
        "        return categoricalSelect(pr)\n",
        "\n",
        "    def store(self, state, action, reward):\n",
        "        ''' 데이터 저장. 여기서 state는 엄밀하게는 observation을 뜻함. '''\n",
        "        if self.read_only:\n",
        "            raise Exception(\"ReinforceDeploy class can only use model, not store.\")\n",
        "            return\n",
        "\n",
        "        self.state.append(state)\n",
        "        self.action.append(action)\n",
        "        self.reward.append(reward)\n",
        "\n",
        "    def learn(self):\n",
        "        ''' Monte-Carlo 방식으로 강화학습 진행. 이후 episode는 폐기 '''\n",
        "        # 잡지식 하나: np.array와 tf.Tensor의 차이점은?\n",
        "        # 정답: 내부구조는 거의 완벽히 동일해서 변환은 constant time 안에 가능.\n",
        "        # 다만 tf.Tensor는 GPU에도 저장할 수 있음\n",
        "        if self.read_only:\n",
        "            raise Exception(\"ReinforceDeploy class can only use model, not learn.\")\n",
        "            return\n",
        "\n",
        "        reward = tf.convert_to_tensor(self.reward, dtype=np.float32)\n",
        "        \n",
        "        G = np.zeros(reward.shape) # G value (미래누적보상) 저장\n",
        "        for t in reversed(range(len(reward))): # G값 계산하는 코드\n",
        "            if t == len(reward)-1:\n",
        "                # 종료 케이스. 미래보상 없음\n",
        "                G[t] = reward[t]\n",
        "            else:\n",
        "                # 미래보상 할인율 gamma 적용\n",
        "                G[t] = reward[t] + self.gamma * G[t+1]\n",
        "\n",
        "        # 입력에 따른 self.policy의 그래디언트 기록\n",
        "        # *** 상당히 어려운 부분임: https://www.tensorflow.org/guide/autodiff 읽어볼것\n",
        "        with tf.GradientTape() as tape:\n",
        "            Loss = 0\n",
        "            for t, (gt, st) in enumerate(zip(G, self.state)):\n",
        "                state = tf.convert_to_tensor([st], dtype=tf.float32) # 텐서화\n",
        "                Pr = tf.squeeze(self.policy(state)) # 신경망 투입으로 학습가능 파라미터의 gradient 기록\n",
        "                LogPr = tf.math.log(Pr[self.action[t]]) # 그 당시 골랐던 action에 log끼움\n",
        "                Loss -= gt * LogPr # Gradient Ascent이므로 Loss에서 \"빼\" 줌\n",
        " \n",
        "        # 기록은 종료됨. 기록된 그래디언트 적용해 경사하강\n",
        "        grad = tape.gradient(Loss, self.policy.trainable_variables)\n",
        "        self.policy.optimizer.apply_gradients(zip(grad, self.policy.trainable_variables))\n",
        "        \n",
        "        # episode learning 끝. 배열 초기화\n",
        "        self.state, self.action, self.reward = \\\n",
        "            list(), list(), list()\n",
        "\n",
        "    def save_model(self):\n",
        "        if self.read_only:\n",
        "            raise Exception(\"ReinforceDeploy class can only use model, not save.\")\n",
        "            return\n",
        "\n",
        "        self.policy.save(self.filename)\n",
        "    \n",
        "    def load_model(self):\n",
        "        self.policy = keras.models.load_model(self.filename)\n",
        "\n",
        "class ReinforceDeploy(ReinforceAgent):\n",
        "    ''' Model의 학습과 저장은 불가능하고 오직 사용만을 위한 class '''\n",
        "    def __init__(self, filename):\n",
        "        self.filename = filename\n",
        "        self.read_only = True\n",
        "        self.load_model()"
      ]
    },
    {
      "cell_type": "markdown",
      "metadata": {
        "id": "68P3OrbbE-h_"
      },
      "source": [
        "## Model Evaluating"
      ]
    },
    {
      "cell_type": "markdown",
      "metadata": {
        "id": "QG2Lsxp7E-iB"
      },
      "source": [
        "### Gym을 사용한 가상환경 준비\n",
        "OpenAI에서 제공하는 gym 모듈을 사용해 보자. 이 모듈은 `pip install gym`을 통해 설치할 수 있다."
      ]
    },
    {
      "cell_type": "code",
      "execution_count": 4,
      "metadata": {
        "id": "_w-qeQaFE-iB"
      },
      "outputs": [],
      "source": [
        "import gym\n",
        "import matplotlib.pyplot as plt\n",
        "from tqdm import tqdm\n",
        "\n",
        "env = gym.make('CartPole-v1')\n",
        "observation = env.reset()"
      ]
    },
    {
      "cell_type": "markdown",
      "metadata": {},
      "source": [
        "### Agent 학습\n",
        "아래의 코드 블록을 실행하면 랜덤하게 초기화된 cartAgent가 강화학습을 시작한다."
      ]
    },
    {
      "cell_type": "code",
      "execution_count": 6,
      "metadata": {
        "colab": {
          "base_uri": "https://localhost:8080/"
        },
        "id": "8LmIROgcE-iC",
        "outputId": "672188ed-8adc-4518-a35e-2104d14fb570"
      },
      "outputs": [
        {
          "name": "stderr",
          "output_type": "stream",
          "text": [
            "score 22.0 | recent average score 22.0:   0%|          | 0/1000 [00:00<?, ?it/s]"
          ]
        },
        {
          "name": "stdout",
          "output_type": "stream",
          "text": [
            "INFO:tensorflow:Assets written to: cartpole-reinforce\\assets\n"
          ]
        },
        {
          "name": "stderr",
          "output_type": "stream",
          "text": [
            "score 69.0 | recent average score 27.3:   5%|▍         | 49/1000 [00:03<01:04, 14.72it/s]"
          ]
        },
        {
          "name": "stdout",
          "output_type": "stream",
          "text": [
            "INFO:tensorflow:Assets written to: cartpole-reinforce\\assets\n"
          ]
        },
        {
          "name": "stderr",
          "output_type": "stream",
          "text": [
            "score 20.0 | recent average score 32.0:  10%|▉         | 99/1000 [00:07<01:29, 10.03it/s]"
          ]
        },
        {
          "name": "stdout",
          "output_type": "stream",
          "text": [
            "INFO:tensorflow:Assets written to: cartpole-reinforce\\assets\n"
          ]
        },
        {
          "name": "stderr",
          "output_type": "stream",
          "text": [
            "score 52.0 | recent average score 37.5:  15%|█▌        | 150/1000 [00:12<01:41,  8.34it/s] "
          ]
        },
        {
          "name": "stdout",
          "output_type": "stream",
          "text": [
            "INFO:tensorflow:Assets written to: cartpole-reinforce\\assets\n"
          ]
        },
        {
          "name": "stderr",
          "output_type": "stream",
          "text": [
            "score 39.0 | recent average score 40.4:  20%|█▉        | 199/1000 [00:17<01:25,  9.40it/s] "
          ]
        },
        {
          "name": "stdout",
          "output_type": "stream",
          "text": [
            "INFO:tensorflow:Assets written to: cartpole-reinforce\\assets\n"
          ]
        },
        {
          "name": "stderr",
          "output_type": "stream",
          "text": [
            "score 44.0 | recent average score 45.6:  25%|██▌       | 250/1000 [00:23<01:36,  7.74it/s] "
          ]
        },
        {
          "name": "stdout",
          "output_type": "stream",
          "text": [
            "INFO:tensorflow:Assets written to: cartpole-reinforce\\assets\n"
          ]
        },
        {
          "name": "stderr",
          "output_type": "stream",
          "text": [
            "score 158.0 | recent average score 72.5:  30%|███       | 300/1000 [00:31<02:09,  5.42it/s]"
          ]
        },
        {
          "name": "stdout",
          "output_type": "stream",
          "text": [
            "INFO:tensorflow:Assets written to: cartpole-reinforce\\assets\n"
          ]
        },
        {
          "name": "stderr",
          "output_type": "stream",
          "text": [
            "score 88.0 | recent average score 118.8:  35%|███▌      | 350/1000 [00:44<02:38,  4.11it/s] "
          ]
        },
        {
          "name": "stdout",
          "output_type": "stream",
          "text": [
            "INFO:tensorflow:Assets written to: cartpole-reinforce\\assets\n"
          ]
        },
        {
          "name": "stderr",
          "output_type": "stream",
          "text": [
            "score 108.0 | recent average score 156.0:  40%|████      | 400/1000 [01:03<04:21,  2.29it/s]"
          ]
        },
        {
          "name": "stdout",
          "output_type": "stream",
          "text": [
            "INFO:tensorflow:Assets written to: cartpole-reinforce\\assets\n"
          ]
        },
        {
          "name": "stderr",
          "output_type": "stream",
          "text": [
            "score 80.0 | recent average score 209.2:  45%|████▌     | 450/1000 [01:27<04:55,  1.86it/s] "
          ]
        },
        {
          "name": "stdout",
          "output_type": "stream",
          "text": [
            "INFO:tensorflow:Assets written to: cartpole-reinforce\\assets\n"
          ]
        },
        {
          "name": "stderr",
          "output_type": "stream",
          "text": [
            "score 106.0 | recent average score 241.8:  50%|█████     | 500/1000 [01:55<06:10,  1.35it/s]"
          ]
        },
        {
          "name": "stdout",
          "output_type": "stream",
          "text": [
            "INFO:tensorflow:Assets written to: cartpole-reinforce\\assets\n"
          ]
        },
        {
          "name": "stderr",
          "output_type": "stream",
          "text": [
            "score 131.0 | recent average score 246.9:  55%|█████▌    | 550/1000 [02:27<04:36,  1.63it/s]"
          ]
        },
        {
          "name": "stdout",
          "output_type": "stream",
          "text": [
            "INFO:tensorflow:Assets written to: cartpole-reinforce\\assets\n"
          ]
        },
        {
          "name": "stderr",
          "output_type": "stream",
          "text": [
            "score 187.0 | recent average score 302.8:  60%|██████    | 600/1000 [03:05<05:35,  1.19it/s]"
          ]
        },
        {
          "name": "stdout",
          "output_type": "stream",
          "text": [
            "INFO:tensorflow:Assets written to: cartpole-reinforce\\assets\n"
          ]
        },
        {
          "name": "stderr",
          "output_type": "stream",
          "text": [
            "score 146.0 | recent average score 279.4:  65%|██████▌   | 650/1000 [03:43<02:50,  2.05it/s]"
          ]
        },
        {
          "name": "stdout",
          "output_type": "stream",
          "text": [
            "INFO:tensorflow:Assets written to: cartpole-reinforce\\assets\n"
          ]
        },
        {
          "name": "stderr",
          "output_type": "stream",
          "text": [
            "score 200.0 | recent average score 186.8:  70%|███████   | 700/1000 [04:06<02:37,  1.91it/s]"
          ]
        },
        {
          "name": "stdout",
          "output_type": "stream",
          "text": [
            "INFO:tensorflow:Assets written to: cartpole-reinforce\\assets\n"
          ]
        },
        {
          "name": "stderr",
          "output_type": "stream",
          "text": [
            "score 379.0 | recent average score 286.8:  75%|███████▌  | 750/1000 [04:40<02:52,  1.45it/s]"
          ]
        },
        {
          "name": "stdout",
          "output_type": "stream",
          "text": [
            "INFO:tensorflow:Assets written to: cartpole-reinforce\\assets\n"
          ]
        },
        {
          "name": "stderr",
          "output_type": "stream",
          "text": [
            "score 215.0 | recent average score 354.8:  80%|████████  | 800/1000 [05:23<03:15,  1.03it/s]"
          ]
        },
        {
          "name": "stdout",
          "output_type": "stream",
          "text": [
            "INFO:tensorflow:Assets written to: cartpole-reinforce\\assets\n"
          ]
        },
        {
          "name": "stderr",
          "output_type": "stream",
          "text": [
            "score 500.0 | recent average score 385.7:  85%|████████▌ | 850/1000 [06:10<02:09,  1.16it/s]"
          ]
        },
        {
          "name": "stdout",
          "output_type": "stream",
          "text": [
            "INFO:tensorflow:Assets written to: cartpole-reinforce\\assets\n"
          ]
        },
        {
          "name": "stderr",
          "output_type": "stream",
          "text": [
            "score 395.0 | recent average score 351.6:  90%|█████████ | 900/1000 [06:55<01:31,  1.10it/s]"
          ]
        },
        {
          "name": "stdout",
          "output_type": "stream",
          "text": [
            "INFO:tensorflow:Assets written to: cartpole-reinforce\\assets\n"
          ]
        },
        {
          "name": "stderr",
          "output_type": "stream",
          "text": [
            "score 318.0 | recent average score 396.4:  95%|█████████▌| 950/1000 [07:43<00:53,  1.07s/it]"
          ]
        },
        {
          "name": "stdout",
          "output_type": "stream",
          "text": [
            "INFO:tensorflow:Assets written to: cartpole-reinforce\\assets\n"
          ]
        },
        {
          "name": "stderr",
          "output_type": "stream",
          "text": [
            "score 490.0 | recent average score 264.9: 100%|██████████| 1000/1000 [08:18<00:00,  2.01it/s]\n"
          ]
        },
        {
          "data": {
            "text/plain": [
              "[<matplotlib.lines.Line2D at 0x24714df32b0>]"
            ]
          },
          "execution_count": 6,
          "metadata": {},
          "output_type": "execute_result"
        },
        {
          "data": {
            "image/png": "[encoded data removed]",
            "text/plain": [
              "<Figure size 432x288 with 1 Axes>"
            ]
          },
          "metadata": {
            "needs_background": "light"
          },
          "output_type": "display_data"
        }
      ],
      "source": [
        "cartAgent = ReinforceAgent(\n",
        "    input_dims=env.observation_space.shape, \n",
        "    l_rate=0.0003, \n",
        "    gamma=0.98,\n",
        "    n_actions=env.action_space.n, \n",
        "    filename='cartpole-reinforce'\n",
        ")\n",
        "\n",
        "scores, scores_avg = list(), list()\n",
        "prgress = tqdm(range(1000))\n",
        "\n",
        "for episode in prgress:\n",
        "    # 환경 및 점수 초기화\n",
        "    score = 0\n",
        "    obs_this = env.reset()\n",
        "    done = False\n",
        "\n",
        "    while not done:\n",
        "        # Agent가 선택\n",
        "        action = cartAgent.choose_action(obs_this)\n",
        "        obs_next, reward, done, info = env.step(action)\n",
        "        cartAgent.store(obs_this, action, reward)\n",
        "        \n",
        "        # 보상 저장\n",
        "        score += reward\n",
        "        obs_this = obs_next\n",
        "        # env.render() # 렉 걸릴 경우 제외\n",
        "\n",
        "    # Agent 학습\n",
        "    cartAgent.learn()\n",
        "\n",
        "    scores.append(score) # 점수 기록\n",
        "    scores_avg.append(np.mean(scores[-30:]))  # 이동평균 산출\n",
        "    prgress.set_description(\"score {:>3.1f} | recent average score {:>3.1f}\".format(scores[-1], scores_avg[-1]))\n",
        "\n",
        "    if episode % 50 == 0: # 50 episode마다 모델을 저장\n",
        "        cartAgent.save_model()\n",
        "\n",
        "plt.plot(np.arange(len(scores)), np.array(scores_avg)) # 이동평균 점수 그래프 그리기"
      ]
    },
    {
      "cell_type": "markdown",
      "metadata": {},
      "source": [
        "다음은 학습한 모델을 불러와 실행하는 블록이다."
      ]
    },
    {
      "cell_type": "code",
      "execution_count": 8,
      "metadata": {},
      "outputs": [
        {
          "name": "stderr",
          "output_type": "stream",
          "text": [
            "score 338.0 | recent average score 335.9: 100%|██████████| 50/50 [02:02<00:00,  2.44s/it]\n"
          ]
        },
        {
          "data": {
            "text/plain": [
              "[<matplotlib.lines.Line2D at 0x2471929a730>]"
            ]
          },
          "execution_count": 8,
          "metadata": {},
          "output_type": "execute_result"
        },
        {
          "data": {
            "image/png": "[encoded data removed]",
            "text/plain": [
              "<Figure size 432x288 with 1 Axes>"
            ]
          },
          "metadata": {
            "needs_background": "light"
          },
          "output_type": "display_data"
        }
      ],
      "source": [
        "cartDeploy = ReinforceDeploy('cartpole-reinforce')\n",
        "\n",
        "scores, scores_avg = list(), list()\n",
        "prgress = tqdm(range(50))\n",
        "\n",
        "for episode in prgress:\n",
        "    # 환경 및 점수 초기화\n",
        "    score = 0\n",
        "    obs_this = env.reset()\n",
        "    done = False\n",
        "\n",
        "    while not done:\n",
        "        # Agent가 선택\n",
        "        action = cartDeploy.choose_action(obs_this)\n",
        "        obs_next, reward, done, info = env.step(action)\n",
        "        \n",
        "        # 보상 저장\n",
        "        score += reward\n",
        "        obs_this = obs_next\n",
        "        env.render()\n",
        "\n",
        "    scores.append(score) # 점수 기록\n",
        "    scores_avg.append(np.mean(scores[-30:]))  # 이동평균 산출\n",
        "    prgress.set_description(\"score {:>3.1f} | recent average score {:>3.1f}\".format(scores[-1], scores_avg[-1]))\n",
        "\n",
        "plt.plot(np.arange(len(scores)), np.array(scores_avg)) # 이동평균 점수 그래프 그리기"
      ]
    },
    {
      "cell_type": "markdown",
      "metadata": {},
      "source": [
        "### 참고: Gradient Tape\n",
        "Tensorflow는 복잡한 함수의 gradient를 직접 구하지 않아도 gradient를 자동으로 계산해 주고 반영할 수 있게 해 준다. 아래의 예제들을 통해 이해하여 보자."
      ]
    },
    {
      "cell_type": "code",
      "execution_count": null,
      "metadata": {},
      "outputs": [],
      "source": [
        "x = tf.Variable(3.0)\n",
        "y = tf.Variable(2.0)\n",
        "with tf.GradientTape() as tape:\n",
        "    Loss = tf.math.log(x) + y\n",
        "    print(type(Loss))\n",
        "\n",
        "grad = tape.gradient(Loss, x)\n",
        "print(\"Grad: {}\".format(grad))"
      ]
    },
    {
      "cell_type": "code",
      "execution_count": null,
      "metadata": {},
      "outputs": [],
      "source": [
        "W = tf.Variable(tf.random.normal((3, 2)), name='w')\n",
        "b = tf.Variable(tf.zeros(2, dtype=tf.float32), name='b')\n",
        "x = [[1., 2., 3.]]\n",
        "\n",
        "with tf.GradientTape() as tape:\n",
        "  y = x @ W + b\n",
        "  Loss = tf.reduce_mean(y**2)\n",
        "\n",
        "# 만약 tape.gradient(Loss, W); tape.gradient(Loss, b)와 같이 두 번에 걸쳐 계산하려면\n",
        "# .gradient를 두 번 호출한다. 이 경우 with절에서 tf.GradientTape(persistent=True)를 사용해야 한다.\n",
        "gW, gb = tape.gradient(Loss, [W, b]) \n",
        "assert W.shape == gW.shape and b.shape == gb.shape\n",
        "print(\"gW\\n{}\\n*********\\ngb\\n{}\".format(gW, gb))"
      ]
    },
    {
      "cell_type": "code",
      "execution_count": null,
      "metadata": {},
      "outputs": [],
      "source": [
        "import tensorflow_probability as tfp\n",
        "\n",
        "Qs = tfp.distributions.Categorical(probs=[0.1, 0.5, 0.4])\n",
        "L = [Qs.sample() for i in range(100)]\n",
        "Pr = [L.count(i) / len(L) for i in [0, 1, 2]]\n",
        "print(Pr)\n",
        "print(Qs.prob(0))\n",
        "print(tf(Qs.prob(0)))\n",
        "print(Qs.log_prob(0))\n",
        "print(type(Qs.log_prob(0)))\n",
        "print(type())\n"
      ]
    },
    {
      "cell_type": "code",
      "execution_count": null,
      "metadata": {},
      "outputs": [],
      "source": []
    }
  ],
  "metadata": {
    "accelerator": "GPU",
    "colab": {
      "collapsed_sections": [],
      "name": "DQN.ipynb",
      "provenance": []
    },
    "interpreter": {
      "hash": "fe5c5529a470cf481d22924ed91de5c709ed4ff5a99c8b9a5a1fe3fe1062ceb2"
    },
    "kernelspec": {
      "display_name": "Python 3.9.7 64-bit ('MLTensor': conda)",
      "language": "python",
      "name": "python3"
    },
    "language_info": {
      "codemirror_mode": {
        "name": "ipython",
        "version": 3
      },
      "file_extension": ".py",
      "mimetype": "text/x-python",
      "name": "python",
      "nbconvert_exporter": "python",
      "pygments_lexer": "ipython3",
      "version": "3.9.7"
    },
    "orig_nbformat": 4
  },
  "nbformat": 4,
  "nbformat_minor": 0
}
