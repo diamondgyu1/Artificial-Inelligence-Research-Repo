{
 "cells": [
  {
   "cell_type": "markdown",
   "metadata": {},
   "source": [
    "# Actor-Critic"
   ]
  },
  {
   "cell_type": "markdown",
   "metadata": {},
   "source": [
    "REINFORCE에서와 같이 **episodic reward**를 reward function으로 설정하자. 정책 $\\pi_\\theta$에서 reward function $J(\\theta)$는 다음과 같이 정의된다.\n",
    "\n",
    "$$ J(\\theta) = \\mathbb{E}_{S_0 \\sim d_0, \\pi_\\theta}\\left[ \\sum_{t=0}^{\\infty}{\\gamma^t R_{t+1}} \\right] = \\mathbb{E}_{S_0 \\sim d_0, \\pi_\\theta}\\left[ G_0 \\right] = \\mathbb{E}_{S_0 \\sim d_0}\\left[ v_{\\pi_\\theta} (S_0) \\right] $$\n",
    "\n",
    "Policy Gradient Theorem(episodic)에 의하여, 위 식의 그래디언트인 $\\nabla_\\theta J(\\theta)$ 는 다음과 같다.\n",
    "\n",
    "$$ \\nabla_\\theta J(\\theta) = \\mathbb{E}_{\\pi_\\theta} \\left[ \\left. \\sum_{t=0}^{T}{\\gamma^t q_{\\pi_\\theta}(S_t, A_t) \\nabla_\\theta \\log \\pi_\\theta (A_t \\mid S_t)} \\right| S_0 \\sim d_0 \\right]$$\n",
    "\n",
    "또한, 수학적으로 다음과 같은 성질이 성립한다.\n",
    "\n",
    "$$ \\mathbb{E}_{\\pi_\\theta} \\left[ b \\cdot \\nabla_\\theta \\log \\pi_\\theta (A_t \\mid S_t) \\right] = 0 $$\n",
    "\n",
    "이 성질을 사용하면 단순히 $q_{\\pi_\\theta}(S_t, A_t)$ 를 reward로 사용하는 것이 아닌, 평균을 빼서 더 안정적인 reward를 계산할 수 있다. 그 평균값은 $v_{\\pi_\\theta}(S_t)$ 이며, 이를 반영한 gradient 식은 다음과 같다.\n",
    "\n",
    "$$ \\nabla_\\theta J(\\theta) = \\mathbb{E}_{\\pi_\\theta} \\left[ \\left. \\sum_{t=0}^{T}{\\gamma^t (q_{\\pi_\\theta}(S_t, A_t) - v_{\\pi_\\theta}(S_t) ) \\nabla_\\theta \\log \\pi_\\theta (A_t \\mid S_t)} \\right| S_0 \\sim d_0 \\right]$$\n",
    "\n",
    "$q_{\\pi_\\theta}(S_t, A_t) = \\mathbb{E}_{\\pi_\\theta}\\left[ \\left. G_t \\right| S_t, A_t \\right]$ 이므로 지금과 같은 stochastic 조건 하에서 $q_{\\pi_\\theta}(S_t, A_t) \\approx G_t$ 로 간주할 수 있다. 다만 이 경우에서는 $v_{\\pi_\\theta}$ 함수를 사용할 수 있으므로 각 시행마다 발생하는 variance를 줄이기 위해 $G_t$ 대신 $G_t \\approx R_{t+1} + \\gamma v_{\\textbf{w}}(S_{t+1})$ 를 사용한다. 또한 일반적으로 $\\gamma^t$ 항은 생략한다.\n",
    "\n",
    "기존의 Monte-Carlo식의 REINFORCE와는 다르게, Actor-Critic에서 업데이트는 매 $t$ 마다 아래처럼 이루어진다.\n",
    "\n",
    "$$ \\delta_t = R_{t+1} + \\gamma v_{\\textbf{w}}(S_{t+1}) - v_{\\textbf{w}}(S_t) $$\n",
    "$$ \\textbf{w} \\leftarrow \\textbf{w} + \\beta \\cdot \\delta_t \\nabla_\\textbf{w} v_{\\textbf{w}}(S_t) $$\n",
    "$$ \\theta \\leftarrow \\theta + \\alpha \\cdot \\delta_t \\nabla_\\theta \\log \\pi_\\theta (A_t \\mid S_t) $$"
   ]
  },
  {
   "cell_type": "markdown",
   "metadata": {
    "id": "wlcooZdcE-h5"
   },
   "source": [
    "### 패키지 import\n",
    "의존성 있는 패키지인 ``` numpy ```, ``` tensorflow ```, ``` keras ```를 import해야 한다.  \n",
    "  \n",
    "참고: keras는 단독으로 import하지 않고 반드시 ``` import tensorflow.keras as keras ```와 같이 ``` tensorflow ```를 통해 import해야 잠재적인 오류를 예방할 수 있다.  \n",
    "\n",
    "주어진 모듈을 설치하기 위해서는 `pip install numpy`, `pip install tensorflow`를 실행하자."
   ]
  },
  {
   "cell_type": "code",
   "execution_count": 30,
   "metadata": {
    "id": "-hm_1nH0E-h6"
   },
   "outputs": [],
   "source": [
    "import numpy as np\n",
    "import tensorflow as tf\n",
    "import tensorflow.keras as keras"
   ]
  },
  {
   "cell_type": "markdown",
   "metadata": {
    "id": "V_hP_xapE-h7"
   },
   "source": [
    "### ReplayBuffer 클래스\n",
    "Replay buffer란 이전의 (S, a, S', R) 순서쌍들을 모아 둔 거대한 테이블을 뜻한다. 강화학습 특성상 환경과 상호작용하기에 시간 순서대로 데이터가 생성되는 즉시 학습시키면 bias가 발생하기 쉽다. 이러한 buffer를 도입함으로써 문제를 해결할 수 있다.  \n",
    " \n",
    "이 class는 다음과 같은 method로 구성된다.\n",
    "* 생성자\n",
    "  * ```replay_size``` 변수에 최대 버퍼크기 명시\n",
    "  * ```input_dims```에 state feature의 dimension 명시\n",
    "* ```store```을 통해 S, a, S', R 값과 terminate 여부를 저장\n",
    "* ```sample```을 통해 주어진 개수만큼 random sampling"
   ]
  },
  {
   "cell_type": "code",
   "execution_count": 31,
   "metadata": {
    "id": "avPl1viwE-h7"
   },
   "outputs": [],
   "source": [
    "class ReplayBuffer:\n",
    "    def __init__(self, replay_size, input_dims):\n",
    "        self.replay_size = replay_size\n",
    "        self.mem_counter = 0\n",
    "        \n",
    "        self.state = np.zeros((self.replay_size, *input_dims), dtype=np.float32)\n",
    "        self.next_state = np.zeros((self.replay_size, *input_dims), dtype=np.float32)\n",
    "        self.action = np.zeros(self.replay_size, dtype=np.int32)\n",
    "        self.reward = np.zeros(self.replay_size, dtype=np.float32)\n",
    "        self.terminate = np.zeros(self.replay_size, dtype=np.int32)\n",
    "    \n",
    "    def store(self, state, action, reward, next_state, terminate):\n",
    "        ''' ReplayBuffer에 단일 데이터쌍 저장 '''\n",
    "        index = self.mem_counter % self.replay_size\n",
    "\n",
    "        self.state[index]       = state\n",
    "        self.next_state[index]  = next_state\n",
    "        self.action[index]      = action\n",
    "        self.reward[index]      = reward\n",
    "        self.terminate[index]   = terminate\n",
    "\n",
    "        self.mem_counter += 1\n",
    "\n",
    "    def sample(self, batch_size):\n",
    "        ''' ReplayBuffer에서 batch_size만큼 임의의 데이터 샘플링 '''\n",
    "\n",
    "        # 아직 replay buffer가 다 차지 않은 경우를 고려해 실제 space_size를 min함수를 이용해 산정\n",
    "        space_size = min(self.mem_counter, self.replay_size)\n",
    "        batch = np.random.choice(space_size, batch_size, replace=False)\n",
    "\n",
    "        state       = self.state[batch]\n",
    "        next_state  = self.next_state[batch]\n",
    "        action      = self.action[batch]\n",
    "        reward      = self.reward[batch]\n",
    "        terminate   = self.terminate[batch]\n",
    "\n",
    "        return state, action, reward, next_state, terminate"
   ]
  },
  {
   "cell_type": "markdown",
   "metadata": {},
   "source": [
    "### Actor & Critic Model Building\n",
    "* ``` l_rate ```는 학습률을 나타낸다.\n",
    "* ``` n_actions ```는 tabular action의 개수를 나타낸다.\n",
    "* ``` input_dims ```는 state의 feature dimension이다."
   ]
  },
  {
   "cell_type": "code",
   "execution_count": 32,
   "metadata": {},
   "outputs": [],
   "source": [
    "class ActorNetwork(keras.Model):\n",
    "    # pi 함수\n",
    "    def __init__(self, l_rate, n_actions, input_dims):\n",
    "        super(ActorNetwork, self).__init__()\n",
    "        self.l_rate     = l_rate\n",
    "        self.n_actions  = n_actions\n",
    "        self.input_dims = input_dims\n",
    "\n",
    "        self.layer1 = keras.layers.Dense(64, activation='relu')\n",
    "        self.layer2 = keras.layers.Dense(128, activation='relu')\n",
    "        self.layer3 = keras.layers.Dense(n_actions, activation='softmax')\n",
    "\n",
    "        self.compile(optimizer=keras.optimizers.Adam(learning_rate=self.l_rate))\n",
    "\n",
    "    def call(self, inputs):\n",
    "        mid1 = self.layer1(inputs)\n",
    "        mid2 = self.layer2(mid1)\n",
    "        return self.layer3(mid2)\n",
    "\n",
    "class CriticNetwork(keras.Model):\n",
    "    # v 함수\n",
    "    def __init__(self, l_rate, n_actions, input_dims):\n",
    "        super(CriticNetwork, self).__init__()\n",
    "        self.l_rate     = l_rate\n",
    "        self.n_actions  = n_actions\n",
    "        self.input_dims = input_dims\n",
    "\n",
    "        self.layer1 = keras.layers.Dense(64, activation='relu')\n",
    "        self.layer2 = keras.layers.Dense(128, activation='relu')\n",
    "        self.layer3 = keras.layers.Dense(n_actions)\n",
    "\n",
    "        self.compile(optimizer=keras.optimizers.Adam(learning_rate=self.l_rate))\n",
    "\n",
    "    def call(self, inputs):\n",
    "        mid1 = self.layer1(inputs)\n",
    "        mid2 = self.layer2(mid1)\n",
    "        return self.layer3(mid2)"
   ]
  },
  {
   "cell_type": "code",
   "execution_count": 37,
   "metadata": {},
   "outputs": [],
   "source": [
    "def categoricalSelect(L):\n",
    "    ''' L[i] 확률로 i를 반환하는 함수. 어떠한 i에도 해당하지 않으면 0 반환. 0 <= sum(L) <= 1인 경우에만 정의됨.'''\n",
    "    L = list(tf.squeeze(L))\n",
    "    pick = np.random.random()\n",
    "    cumul = 0\n",
    "\n",
    "    for i, pi in enumerate(L):\n",
    "        if (cumul <= pick < cumul + float(pi)):\n",
    "            return i\n",
    "        cumul += pi\n",
    "\n",
    "    return 0\n",
    "\n",
    "class ActorCriticAgent:\n",
    "    def __init__(self,\n",
    "            input_dims, n_actions,          # 환경 정의\n",
    "            actor_rate, critic_rate, gamma, # 학습 하이퍼파라미터\n",
    "            replay_size, batch_size,        # ReplayBuffer 정의\n",
    "            filename):\n",
    "\n",
    "        self.read_only = False  # ActorCriticDeploy 클래스에서 True\n",
    "        self.gamma = gamma\n",
    "\n",
    "        self.action = [i for i in range(n_actions)]\n",
    "        self.policy = ActorNetwork(actor_rate, n_actions, input_dims)\n",
    "        self.value  = CriticNetwork(critic_rate, n_actions, input_dims)\n",
    "\n",
    "        self.memory = ReplayBuffer(replay_size, input_dims)\n",
    "        self.batch_size = batch_size\n",
    "\n",
    "        self.filename = filename  # model 저장용\n",
    "\n",
    "\n",
    "    def store(self, state, action, reward, next_state, done):\n",
    "        ''' internal ReplayBuffer에 상태 저장 '''\n",
    "        if self.read_only:\n",
    "            raise Exception(\"DQNDeploy class can only use model, not store.\")\n",
    "            return\n",
    "        self.memory.store(state, action, reward, next_state, done)\n",
    "\n",
    "    def choose_action(self, obs):\n",
    "        ''' 내부 stochastic policy인 `self.policy`를 토대로 action 결정 '''\n",
    "        state = np.array([obs], dtype=np.float32) # 관찰 결과를 numpy 스타일로 변환 (tf.convert_to_tensor도 ok)\n",
    "        pr = self.policy(state) # 신경망으로 전달, 확률 pr에 저장\n",
    "        return categoricalSelect(pr)\n",
    "\n",
    "    def learn(self):\n",
    "        if self.read_only:  # 읽기 전용\n",
    "            raise Exception(\"ActorCriticDeploy class can only use model, not learn.\")\n",
    "            return\n",
    "        if self.memory.mem_counter < self.batch_size:   # 충분한 데이터 수집 전까지 학습 x\n",
    "            return\n",
    "\n",
    "        states, actions, rewards, next_states, done = \\\n",
    "            self.memory.sample(self.batch_size) # 데이터를 ReplayBuffer에서 샘플링\n",
    "        \n",
    "        # tf.GradientTape에서 사용 위한 전처리 과정\n",
    "        act_list = tf.cast(actions, dtype=tf.int32)             # action의 기록\n",
    "        episode = act_list.shape[0]\n",
    "        episode_list = tf.range(episode, dtype=tf.int32) # action이 일어났던 episode의 기록\n",
    "        act_list, episode_list = tf.reshape(act_list, (episode, 1)), tf.reshape(episode_list, (episode, 1))\n",
    "        zip_list = tf.concat((episode_list, act_list), axis=1)     # action & episode 텐서의 병합\n",
    "        gamma = tf.constant(self.gamma, dtype=tf.float32)\n",
    "        done = tf.cast(done, tf.float32)\n",
    "\n",
    "        with tf.GradientTape(persistent=True) as tape:  # Gradient를 policy/value에 2회 적용하므로 persistent\n",
    "            Pr    = self.policy(states)     # n x n, 이걸 n으로 만들어야 함.\n",
    "            Vthis = self.value(states)\n",
    "            Vnext = self.value(next_states)\n",
    "\n",
    "            Pr    = tf.gather_nd(Pr   , zip_list)\n",
    "            Vthis = tf.gather_nd(Vthis, zip_list)\n",
    "            Vnext = tf.gather_nd(Vnext, zip_list)\n",
    "            \n",
    "            LogPr = tf.math.log(Pr) # pi(a|s)를 추적해 gradient를 씌워야 함\n",
    "            Delta = rewards + gamma * Vnext * (1 - done) - Vthis\n",
    "\n",
    "            ActorLoss  = - tf.math.reduce_sum(LogPr * Delta)    # Reinforce와 같은 원리\n",
    "            CriticLoss = tf.math.reduce_sum(Delta**2) # DeepMind 7강 참조. 결론부터 말하면 Loss는 RMS(v_pi(s) - v_w(s)) = RMS(G_t - v_w(s)) = RMS(delta)\n",
    "\n",
    "        gradActor  = tape.gradient(ActorLoss, self.policy.trainable_variables)\n",
    "        gradCritic = tape.gradient(CriticLoss, self.value.trainable_variables)\n",
    "        del tape    # 사용이 끝난 tape는 Garbage Collector에게 전달\n",
    "\n",
    "        self.policy.optimizer.apply_gradients(zip(gradActor, self.policy.trainable_variables))\n",
    "        self.value .optimizer.apply_gradients(zip(gradCritic, self.value.trainable_variables))\n",
    "\n",
    "    def save_model(self):\n",
    "        if self.read_only:\n",
    "            raise Exception(\"ActorCriticDeploy class can only use model, not save.\")\n",
    "            return\n",
    "\n",
    "        self.value.save(self.filename + \"-value\")\n",
    "        self.policy.save(self.filename + \"-policy\")\n",
    "    \n",
    "    def load_model(self):\n",
    "        self.value = keras.models.load_model(self.filename + \"-value\")\n",
    "        self.policy = keras.models.load_model(self.filename + \"-policy\")\n",
    "\n",
    "class ActorCriticDeploy(ActorCriticAgent):\n",
    "    ''' Model의 학습과 저장은 불가능하고 오직 사용만을 위한 class '''\n",
    "    def __init__(self, filename):\n",
    "        self.filename = filename\n",
    "        self.read_only = True\n",
    "        self.load_model()"
   ]
  },
  {
   "cell_type": "markdown",
   "metadata": {
    "id": "68P3OrbbE-h_"
   },
   "source": [
    "## Model Evaluating"
   ]
  },
  {
   "cell_type": "markdown",
   "metadata": {
    "id": "QG2Lsxp7E-iB"
   },
   "source": [
    "### Gym을 사용한 가상환경 준비\n",
    "OpenAI에서 제공하는 gym 모듈을 사용해 보자. 이 모듈은 `pip install gym`을 통해 설치할 수 있다."
   ]
  },
  {
   "cell_type": "code",
   "execution_count": 34,
   "metadata": {
    "id": "_w-qeQaFE-iB"
   },
   "outputs": [],
   "source": [
    "import gym\n",
    "import matplotlib.pyplot as plt\n",
    "from tqdm import tqdm\n",
    "\n",
    "env = gym.make('CartPole-v1')\n",
    "observation = env.reset()"
   ]
  },
  {
   "cell_type": "markdown",
   "metadata": {},
   "source": [
    "### Agent 학습\n",
    "아래의 코드 블록을 실행하면 랜덤하게 초기화된 cartAgent가 강화학습을 시작한다."
   ]
  },
  {
   "cell_type": "code",
   "execution_count": 39,
   "metadata": {
    "colab": {
     "base_uri": "https://localhost:8080/"
    },
    "id": "8LmIROgcE-iC",
    "outputId": "672188ed-8adc-4518-a35e-2104d14fb570"
   },
   "outputs": [
    {
     "name": "stderr",
     "output_type": "stream",
     "text": [
      "  0%|          | 0/1000 [00:00<?, ?it/s]"
     ]
    },
    {
     "name": "stdout",
     "output_type": "stream",
     "text": [
      "tf.Tensor(\n",
      "[[-0.07014836  0.05053015]\n",
      " [-0.04496381  0.03167167]\n",
      " [-0.0944189   0.07007447]\n",
      " [-0.02010098  0.01429473]\n",
      " [-0.11688532  0.09004559]\n",
      " [-0.01882243  0.01534003]\n",
      " [-0.00068095  0.00263332]\n",
      " [-0.00223432  0.00272717]], shape=(8, 2), dtype=float32)\n",
      "tf.Tensor(\n",
      "[[0 1]\n",
      " [1 1]\n",
      " [2 1]\n",
      " [3 0]\n",
      " [4 1]\n",
      " [5 1]\n",
      " [6 1]\n",
      " [7 1]], shape=(8, 2), dtype=int32)\n",
      "tf.Tensor(\n",
      "[ 0.05053015  0.03167167  0.07007447 -0.02010098  0.09004559  0.01534003\n",
      "  0.00263332  0.00272717], shape=(8,), dtype=float32)\n"
     ]
    },
    {
     "name": "stderr",
     "output_type": "stream",
     "text": [
      "  0%|          | 0/1000 [00:28<?, ?it/s]\n"
     ]
    },
    {
     "ename": "KeyboardInterrupt",
     "evalue": "Interrupted by user",
     "output_type": "error",
     "traceback": [
      "\u001b[1;31m---------------------------------------------------------------------------\u001b[0m",
      "\u001b[1;31mKeyboardInterrupt\u001b[0m                         Traceback (most recent call last)",
      "\u001b[1;32m~\\AppData\\Local\\Temp/ipykernel_13488/3094516267.py\u001b[0m in \u001b[0;36m<module>\u001b[1;34m\u001b[0m\n\u001b[0;32m     30\u001b[0m         \u001b[1;31m# env.render() # 렉 걸릴 경우 제외\u001b[0m\u001b[1;33m\u001b[0m\u001b[1;33m\u001b[0m\u001b[0m\n\u001b[0;32m     31\u001b[0m \u001b[1;33m\u001b[0m\u001b[0m\n\u001b[1;32m---> 32\u001b[1;33m         \u001b[0mcartAgent\u001b[0m\u001b[1;33m.\u001b[0m\u001b[0mlearn\u001b[0m\u001b[1;33m(\u001b[0m\u001b[1;33m)\u001b[0m\u001b[1;33m\u001b[0m\u001b[1;33m\u001b[0m\u001b[0m\n\u001b[0m\u001b[0;32m     33\u001b[0m \u001b[1;33m\u001b[0m\u001b[0m\n\u001b[0;32m     34\u001b[0m     \u001b[0mscores\u001b[0m\u001b[1;33m.\u001b[0m\u001b[0mappend\u001b[0m\u001b[1;33m(\u001b[0m\u001b[0mscore\u001b[0m\u001b[1;33m)\u001b[0m \u001b[1;31m# 점수 기록\u001b[0m\u001b[1;33m\u001b[0m\u001b[1;33m\u001b[0m\u001b[0m\n",
      "\u001b[1;32m~\\AppData\\Local\\Temp/ipykernel_13488/1189890036.py\u001b[0m in \u001b[0;36mlearn\u001b[1;34m(self)\u001b[0m\n\u001b[0;32m     81\u001b[0m             \u001b[0mDelta\u001b[0m \u001b[1;33m=\u001b[0m \u001b[0mrewards\u001b[0m \u001b[1;33m+\u001b[0m \u001b[0mgamma\u001b[0m \u001b[1;33m*\u001b[0m \u001b[0mVnext\u001b[0m \u001b[1;33m*\u001b[0m \u001b[1;33m(\u001b[0m\u001b[0mmore\u001b[0m\u001b[1;33m)\u001b[0m \u001b[1;33m-\u001b[0m \u001b[0mVthis\u001b[0m\u001b[1;33m\u001b[0m\u001b[1;33m\u001b[0m\u001b[0m\n\u001b[0;32m     82\u001b[0m \u001b[1;33m\u001b[0m\u001b[0m\n\u001b[1;32m---> 83\u001b[1;33m             \u001b[0minput\u001b[0m\u001b[1;33m(\u001b[0m\u001b[1;33m)\u001b[0m\u001b[1;33m\u001b[0m\u001b[1;33m\u001b[0m\u001b[0m\n\u001b[0m\u001b[0;32m     84\u001b[0m \u001b[1;33m\u001b[0m\u001b[0m\n\u001b[0;32m     85\u001b[0m             \u001b[0mActorLoss\u001b[0m  \u001b[1;33m=\u001b[0m \u001b[1;33m-\u001b[0m \u001b[0mtf\u001b[0m\u001b[1;33m.\u001b[0m\u001b[0mmath\u001b[0m\u001b[1;33m.\u001b[0m\u001b[0mreduce_sum\u001b[0m\u001b[1;33m(\u001b[0m\u001b[0mLogPr\u001b[0m \u001b[1;33m*\u001b[0m \u001b[0mDelta\u001b[0m\u001b[1;33m)\u001b[0m    \u001b[1;31m# Reinforce와 같은 원리\u001b[0m\u001b[1;33m\u001b[0m\u001b[1;33m\u001b[0m\u001b[0m\n",
      "\u001b[1;32m~\\.conda\\envs\\MLTensor\\lib\\site-packages\\ipykernel\\kernelbase.py\u001b[0m in \u001b[0;36mraw_input\u001b[1;34m(self, prompt)\u001b[0m\n\u001b[0;32m   1004\u001b[0m                 \u001b[1;34m\"raw_input was called, but this frontend does not support input requests.\"\u001b[0m\u001b[1;33m\u001b[0m\u001b[1;33m\u001b[0m\u001b[0m\n\u001b[0;32m   1005\u001b[0m             )\n\u001b[1;32m-> 1006\u001b[1;33m         return self._input_request(\n\u001b[0m\u001b[0;32m   1007\u001b[0m             \u001b[0mstr\u001b[0m\u001b[1;33m(\u001b[0m\u001b[0mprompt\u001b[0m\u001b[1;33m)\u001b[0m\u001b[1;33m,\u001b[0m\u001b[1;33m\u001b[0m\u001b[1;33m\u001b[0m\u001b[0m\n\u001b[0;32m   1008\u001b[0m             \u001b[0mself\u001b[0m\u001b[1;33m.\u001b[0m\u001b[0m_parent_ident\u001b[0m\u001b[1;33m[\u001b[0m\u001b[1;34m\"shell\"\u001b[0m\u001b[1;33m]\u001b[0m\u001b[1;33m,\u001b[0m\u001b[1;33m\u001b[0m\u001b[1;33m\u001b[0m\u001b[0m\n",
      "\u001b[1;32m~\\.conda\\envs\\MLTensor\\lib\\site-packages\\ipykernel\\kernelbase.py\u001b[0m in \u001b[0;36m_input_request\u001b[1;34m(self, prompt, ident, parent, password)\u001b[0m\n\u001b[0;32m   1049\u001b[0m             \u001b[1;32mexcept\u001b[0m \u001b[0mKeyboardInterrupt\u001b[0m\u001b[1;33m:\u001b[0m\u001b[1;33m\u001b[0m\u001b[1;33m\u001b[0m\u001b[0m\n\u001b[0;32m   1050\u001b[0m                 \u001b[1;31m# re-raise KeyboardInterrupt, to truncate traceback\u001b[0m\u001b[1;33m\u001b[0m\u001b[1;33m\u001b[0m\u001b[0m\n\u001b[1;32m-> 1051\u001b[1;33m                 \u001b[1;32mraise\u001b[0m \u001b[0mKeyboardInterrupt\u001b[0m\u001b[1;33m(\u001b[0m\u001b[1;34m\"Interrupted by user\"\u001b[0m\u001b[1;33m)\u001b[0m \u001b[1;32mfrom\u001b[0m \u001b[1;32mNone\u001b[0m\u001b[1;33m\u001b[0m\u001b[1;33m\u001b[0m\u001b[0m\n\u001b[0m\u001b[0;32m   1052\u001b[0m             \u001b[1;32mexcept\u001b[0m \u001b[0mException\u001b[0m\u001b[1;33m:\u001b[0m\u001b[1;33m\u001b[0m\u001b[1;33m\u001b[0m\u001b[0m\n\u001b[0;32m   1053\u001b[0m                 \u001b[0mself\u001b[0m\u001b[1;33m.\u001b[0m\u001b[0mlog\u001b[0m\u001b[1;33m.\u001b[0m\u001b[0mwarning\u001b[0m\u001b[1;33m(\u001b[0m\u001b[1;34m\"Invalid Message:\"\u001b[0m\u001b[1;33m,\u001b[0m \u001b[0mexc_info\u001b[0m\u001b[1;33m=\u001b[0m\u001b[1;32mTrue\u001b[0m\u001b[1;33m)\u001b[0m\u001b[1;33m\u001b[0m\u001b[1;33m\u001b[0m\u001b[0m\n",
      "\u001b[1;31mKeyboardInterrupt\u001b[0m: Interrupted by user"
     ]
    }
   ],
   "source": [
    "cartAgent = ActorCriticAgent(\n",
    "    input_dims=env.observation_space.shape, \n",
    "    actor_rate=0.0003, \n",
    "    critic_rate=0.0003, \n",
    "    gamma=0.99,\n",
    "    n_actions=env.action_space.n, \n",
    "    replay_size=32,\n",
    "    batch_size=8,\n",
    "    filename='cartpole-ac-replay'\n",
    ")\n",
    "\n",
    "scores, scores_avg = list(), list()\n",
    "prgress = tqdm(range(1000))\n",
    "\n",
    "for episode in prgress:\n",
    "    # 환경 및 점수 초기화\n",
    "    score = 0\n",
    "    obs_this = env.reset()\n",
    "    done = False\n",
    "\n",
    "    while not done:\n",
    "        # Agent가 선택\n",
    "        action = cartAgent.choose_action(obs_this)\n",
    "        obs_next, reward, done, info = env.step(action)\n",
    "        cartAgent.store(obs_this, action, reward, obs_next, done)\n",
    "\n",
    "        # 보상 저장\n",
    "        score += reward\n",
    "        obs_this = obs_next\n",
    "        # env.render() # 렉 걸릴 경우 제외\n",
    "\n",
    "        cartAgent.learn()\n",
    "\n",
    "    scores.append(score) # 점수 기록\n",
    "    scores_avg.append(np.mean(scores[-30:])) # 이동평균 산출\n",
    "    prgress.set_description(\"score {:>3.1f} | recent average score {:>3.1f}\"\n",
    "        .format(scores[-1], scores_avg[-1]))\n",
    "\n",
    "    if episode % 200 == 0 and episode > 0: # 100 episode마다 모델을 저장\n",
    "        cartAgent.save_model()\n",
    "\n",
    "plt.plot(np.arange(len(scores_avg)), np.array(scores_avg)) # 이동평균 점수 그래프 그리기"
   ]
  },
  {
   "cell_type": "markdown",
   "metadata": {},
   "source": [
    "다음은 학습한 모델을 불러와 실행하는 블록이다."
   ]
  },
  {
   "cell_type": "code",
   "execution_count": 14,
   "metadata": {},
   "outputs": [
    {
     "name": "stderr",
     "output_type": "stream",
     "text": [
      "score 33.0 | recent average score 17.6: 100%|██████████| 5/5 [00:00<00:00,  7.80it/s]\n"
     ]
    },
    {
     "data": {
      "text/plain": [
       "[<matplotlib.lines.Line2D at 0x1e134306d00>]"
      ]
     },
     "execution_count": 14,
     "metadata": {},
     "output_type": "execute_result"
    },
    {
     "data": {
      "image/png": "[encoded data removed]",
      "text/plain": [
       "<Figure size 432x288 with 1 Axes>"
      ]
     },
     "metadata": {
      "needs_background": "light"
     },
     "output_type": "display_data"
    }
   ],
   "source": [
    "cartDeploy = ActorCriticDeploy('cartpole-ac-replay')\n",
    "\n",
    "scores, scores_avg = list(), list()\n",
    "prgress = tqdm(range(5))\n",
    "\n",
    "for episode in prgress:\n",
    "    # 환경 및 점수 초기화\n",
    "    score = 0\n",
    "    obs_this = env.reset()\n",
    "    done = False\n",
    "\n",
    "    while not done:\n",
    "        # Agent가 선택\n",
    "        action = cartDeploy.choose_action(obs_this)\n",
    "        obs_next, reward, done, info = env.step(action)\n",
    "\n",
    "        # 보상 저장\n",
    "        score += reward\n",
    "        obs_this = obs_next\n",
    "        env.render() # 렉 걸릴 경우 제외\n",
    "\n",
    "    scores.append(score) # 점수 기록\n",
    "    scores_avg.append(np.mean(scores[-30:])) # 이동평균 산출\n",
    "    prgress.set_description(\"score {:>3.1f} | recent average score {:>3.1f}\"\n",
    "        .format(scores[-1], scores_avg[-1]))\n",
    "\n",
    "plt.plot(np.arange(len(scores)), np.array(scores)) # 이동평균 점수 그래프 그리기"
   ]
  }
 ],
 "metadata": {
  "interpreter": {
   "hash": "fe5c5529a470cf481d22924ed91de5c709ed4ff5a99c8b9a5a1fe3fe1062ceb2"
  },
  "kernelspec": {
   "display_name": "Python 3.9.7 64-bit ('MLTensor': conda)",
   "language": "python",
   "name": "python3"
  },
  "language_info": {
   "codemirror_mode": {
    "name": "ipython",
    "version": 3
   },
   "file_extension": ".py",
   "mimetype": "text/x-python",
   "name": "python",
   "nbconvert_exporter": "python",
   "pygments_lexer": "ipython3",
   "version": "3.9.7"
  },
  "orig_nbformat": 4
 },
 "nbformat": 4,
 "nbformat_minor": 2
}
