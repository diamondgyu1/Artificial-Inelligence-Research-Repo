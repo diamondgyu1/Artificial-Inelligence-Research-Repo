{
  "cells": [
    {
      "cell_type": "markdown",
      "metadata": {
        "id": "AVTTc1eEE-h2"
      },
      "source": [
        "# DQN"
      ]
    },
    {
      "cell_type": "markdown",
      "metadata": {
        "id": "wlcooZdcE-h5"
      },
      "source": [
        "### 패키지 import\n",
        "의존성 있는 패키지인 ``` numpy ```, ``` tensorflow ```, ``` keras ```를 import해야 한다.  \n",
        "  \n",
        "참고: keras는 단독으로 import하지 않고 반드시 ``` import tensorflow.keras as keras ```와 같이 ``` tensorflow ```를 통해 import해야 잠재적인 오류를 예방할 수 있다.  \n",
        "\n",
        "주어진 모듈을 설치하기 위해서는 `pip install numpy`, `pip install tensorflow`를 실행하자."
      ]
    },
    {
      "cell_type": "code",
      "execution_count": 1,
      "metadata": {
        "id": "-hm_1nH0E-h6"
      },
      "outputs": [],
      "source": [
        "import numpy as np\n",
        "import tensorflow as tf\n",
        "import tensorflow.keras as keras"
      ]
    },
    {
      "cell_type": "markdown",
      "metadata": {
        "id": "V_hP_xapE-h7"
      },
      "source": [
        "### ReplayBuffer 클래스\n",
        "Replay buffer란 이전의 (S, a, S', R) 순서쌍들을 모아 둔 거대한 테이블을 뜻한다. 강화학습 특성상 환경과 상호작용하기에 시간 순서대로 데이터가 생성되는 즉시 학습시키면 bias가 발생하기 쉽다. 이러한 buffer를 도입함으로써 문제를 해결할 수 있다.  \n",
        " \n",
        "이 class는 다음과 같은 method로 구성된다.\n",
        "* 생성자\n",
        "  * ```replay_size``` 변수에 최대 버퍼크기 명시\n",
        "  * ```input_dims```에 state feature의 dimension 명시\n",
        "* ```store```을 통해 S, a, S', R 값과 terminate 여부를 저장\n",
        "* ```sample```을 통해 주어진 개수만큼 random sampling"
      ]
    },
    {
      "cell_type": "code",
      "execution_count": 2,
      "metadata": {
        "id": "avPl1viwE-h7"
      },
      "outputs": [],
      "source": [
        "class ReplayBuffer:\n",
        "    def __init__(self, replay_size, input_dims):\n",
        "        self.replay_size = replay_size\n",
        "        self.mem_counter = 0\n",
        "        \n",
        "        self.state = np.zeros((self.replay_size, *input_dims), dtype=np.float32)\n",
        "        self.next_state = np.zeros((self.replay_size, *input_dims), dtype=np.float32)\n",
        "        self.action = np.zeros(self.replay_size, dtype=np.int32)\n",
        "        self.reward = np.zeros(self.replay_size, dtype=np.float32)\n",
        "        self.terminate = np.zeros(self.replay_size, dtype=np.int32)\n",
        "    \n",
        "    def store(self, state, action, reward, next_state, terminate):\n",
        "        ''' ReplayBuffer에 단일 데이터쌍 저장 '''\n",
        "        index = self.mem_counter % self.replay_size\n",
        "\n",
        "        self.state[index]       = state\n",
        "        self.next_state[index]  = next_state\n",
        "        self.action[index]      = action\n",
        "        self.reward[index]      = reward\n",
        "        self.terminate[index]   = 1 - int(terminate)\n",
        "\n",
        "        self.mem_counter += 1\n",
        "\n",
        "    def sample(self, batch_size):\n",
        "        ''' ReplayBuffer에서 batch_size만큼 임의의 데이터 샘플링 '''\n",
        "\n",
        "        # 아직 replay buffer가 다 차지 않은 경우를 고려해 실제 space_size를 min함수를 이용해 산정\n",
        "        space_size = min(self.mem_counter, self.replay_size)\n",
        "        batch = np.random.choice(space_size, batch_size, replace=False)\n",
        "\n",
        "        state       = self.state[batch]\n",
        "        next_state  = self.next_state[batch]\n",
        "        action      = self.action[batch]\n",
        "        reward      = self.reward[batch]\n",
        "        terminate   = self.terminate[batch]\n",
        "\n",
        "        return state, action, reward, next_state, terminate"
      ]
    },
    {
      "cell_type": "markdown",
      "metadata": {
        "id": "0XrFwHf3E-h8"
      },
      "source": [
        "### ANN 모델 만들기\n",
        "DQN에서 Tabular action을 나타내는 model을 tensorflow를 통해 컴파일한다.\n",
        "* ``` l_rate ```는 학습률을 나타낸다.\n",
        "* ``` n_actions ```는 tabular action의 개수를 나타낸다.\n",
        "* ``` input_dims ```는 state의 feature dimension이다."
      ]
    },
    {
      "cell_type": "code",
      "execution_count": 3,
      "metadata": {
        "id": "zJQuDKpEE-h9"
      },
      "outputs": [],
      "source": [
        "def build_dqn(l_rate, n_actions, input_dims):\n",
        "    model = keras.Sequential([\n",
        "        keras.layers.Flatten(input_shape=input_dims),\n",
        "        keras.layers.Dense(64, activation='relu'),\n",
        "        keras.layers.Dense(64, activation='relu'),\n",
        "        keras.layers.Dense(n_actions, activation=None)\n",
        "    ])\n",
        "\n",
        "    model.compile(optimizer=keras.optimizers.Adam(learning_rate=l_rate), loss='mse')\n",
        "\n",
        "    return model"
      ]
    },
    {
      "cell_type": "markdown",
      "metadata": {
        "id": "8rR5DuztE-h9"
      },
      "source": [
        "아래는 간단한 ANN Model을 만드는 예제이다."
      ]
    },
    {
      "cell_type": "code",
      "execution_count": 4,
      "metadata": {
        "id": "04sVvSmOE-h-"
      },
      "outputs": [],
      "source": [
        "simple_ANN_model = build_dqn(1e-8, 100, (4,))"
      ]
    },
    {
      "cell_type": "markdown",
      "metadata": {
        "id": "-ZVCOCSnE-h-"
      },
      "source": [
        "### DQN Agent 만들기\n",
        "Agent는 위에서 만들어진 ` ReplayBuffer `와 ` build_dqn `을 함께 사용해 실제로 RL을 실행하는 클래스이다.\n",
        "* 생성자\n",
        "  * ` input_dims `는 입력 데이터의 차원이다.\n",
        "  * ` l_rate `는 학습률 $\\alpha$이다.\n",
        "  * ` gamma `는 미래할인률 $\\gamma$이다.\n",
        "  * ` n_actions `는 사용 가능한 action 수이다.\n",
        "  * ` batch_size `는 `ReplayBuffer`에서 한 번에 학습할 데이터 batch의 수이다.\n",
        "  * ` epsilon_start `, `epsilon_decay`, `epsilon_end`는 $\\epsilon$의 값을 통제한다. `start`에서 시작해 action을 선택할 때마다 `decay`만큼 깎이되, `end`보다 낮아지지 않는다.\n",
        "  * ` replay_size `는 `ReplayBuffer`의 크기를 결정한다.\n",
        "  * ` filename `은 모델을 저장할 파일의 이름이다."
      ]
    },
    {
      "cell_type": "code",
      "execution_count": 5,
      "metadata": {
        "id": "jbWzc_CGE-h_"
      },
      "outputs": [],
      "source": [
        "class DQNAgent:\n",
        "    def __init__(self, input_dims, l_rate, gamma, n_actions, batch_size,\n",
        "        epsilon_start, epsilon_decay, epsilon_end,\n",
        "        replay_size, filename):\n",
        "\n",
        "        self.read_only = False\n",
        "\n",
        "        self.gamma = gamma\n",
        "        self.action = [i for i in range(n_actions)]\n",
        "        self.batch_size = batch_size\n",
        "        \n",
        "        self.eps = epsilon_start\n",
        "        self.eps_decay = epsilon_decay\n",
        "        self.eps_end = epsilon_end\n",
        "\n",
        "        self.memory = ReplayBuffer(replay_size, input_dims)\n",
        "        self.Q = build_dqn(l_rate, n_actions, input_dims)\n",
        "\n",
        "        self.filename = filename\n",
        "\n",
        "    def store(self, state, action, reward, next_state, terminate):\n",
        "        ''' internal ReplayBuffer에 상태 저장 '''\n",
        "        if self.read_only:\n",
        "            raise Exception(\"DQNDeploy class can only use model, not store.\")\n",
        "            return\n",
        "        self.memory.store(state, action, reward, next_state, terminate)\n",
        "\n",
        "    def choose_action(self, obs):\n",
        "        ''' observation `obs`를 토대로 epsilon-greddy를 따르는 action 결정 '''\n",
        "        if np.random.random() < self.eps:\n",
        "            # epsilon하게 exploration\n",
        "            action = np.random.choice(self.action)\n",
        "        else:\n",
        "            # argmax Q 선택\n",
        "            state = np.array([obs])\n",
        "            action_set = self.Q.predict(state)\n",
        "            action = np.argmax(action_set)\n",
        "        \n",
        "        return action\n",
        "\n",
        "    def learn(self):\n",
        "        ''' 쌓아 둔 데이터로 random batch한 뒤 강화학습 진행 '''\n",
        "        if self.read_only:\n",
        "            raise Exception(\"DQNDeploy class can only use model, not learn.\")\n",
        "            return\n",
        "\n",
        "        if self.memory.mem_counter < self.batch_size:\n",
        "            return\n",
        "\n",
        "        # n x input, n x 1, n x 1, n x input, n x 1\n",
        "        states, actions, rewards, next_states, terminates = \\\n",
        "            self.memory.sample(self.batch_size)\n",
        "\n",
        "        # n x n\n",
        "        q_this = self.Q.predict(states)\n",
        "        q_next = self.Q.predict(next_states)\n",
        "\n",
        "        q_target = np.copy(q_this)\n",
        "        enum_list = np.arange(self.batch_size, dtype=np.int32)\n",
        "\n",
        "        # 과거 시행되었던 state-action pair에 대하여 bellman equation 업데이트\n",
        "        q_target[enum_list, actions.astype(np.int32)] = rewards + \\\n",
        "            self.gamma * np.max(q_next, axis=1) * terminates\n",
        "\n",
        "        # n x input ~ n x 1 에 대해 train on batch\n",
        "        self.Q.train_on_batch(states, q_target)\n",
        "        \n",
        "        # epsilon decay\n",
        "        if self.eps > self.eps_end:\n",
        "            self.eps -= self.eps_decay\n",
        "            \n",
        "    def save_model(self):\n",
        "        if self.read_only:\n",
        "            raise Exception(\"DQNDeploy class can only use model, not save.\")\n",
        "            return\n",
        "\n",
        "        self.Q.save(self.filename)\n",
        "    \n",
        "    def load_model(self):\n",
        "        self.Q = keras.models.load_model(self.filename)\n",
        "\n",
        "class DQNDeploy(DQNAgent):\n",
        "    ''' Model의 학습과 저장은 불가능하고 오직 사용만을 위한 class '''\n",
        "    def __init__(self, filename):\n",
        "        self.filename = filename\n",
        "        self.eps = 0\n",
        "        self.read_only = True\n",
        "        self.load_model()"
      ]
    },
    {
      "cell_type": "markdown",
      "metadata": {
        "id": "68P3OrbbE-h_"
      },
      "source": [
        "## Model Evaluating"
      ]
    },
    {
      "cell_type": "markdown",
      "metadata": {
        "id": "QG2Lsxp7E-iB"
      },
      "source": [
        "### Gym을 사용한 가상환경 준비\n",
        "OpenAI에서 제공하는 gym 모듈을 사용해 보자. 이 모듈은 `pip install gym`을 통해 설치할 수 있다."
      ]
    },
    {
      "cell_type": "code",
      "execution_count": 6,
      "metadata": {
        "id": "_w-qeQaFE-iB"
      },
      "outputs": [],
      "source": [
        "import gym\n",
        "import matplotlib.pyplot as plt\n",
        "from tqdm import tqdm\n",
        "\n",
        "env = gym.make('CartPole-v1')\n",
        "observation = env.reset()"
      ]
    },
    {
      "cell_type": "markdown",
      "metadata": {
        "id": "zVg78fIQE-iB"
      },
      "source": [
        "이 상황에서 `DQNAgent`를 도입해 문제를 해결해 보자. 이때 observation은 `env.observation_space.shape`의 dimensionality를, action은 `env.action_space.n`의 dimensionality를 가진다. "
      ]
    },
    {
      "cell_type": "code",
      "execution_count": 7,
      "metadata": {
        "colab": {
          "base_uri": "https://localhost:8080/"
        },
        "id": "bHEAFFUeE-iB",
        "outputId": "607a5eb7-dce7-4981-c2b9-6b713dab8345"
      },
      "outputs": [
        {
          "name": "stdout",
          "output_type": "stream",
          "text": [
            "(4,)\n",
            "2\n"
          ]
        }
      ],
      "source": [
        "print(env.observation_space.shape)\n",
        "print(env.action_space.n)"
      ]
    },
    {
      "cell_type": "markdown",
      "metadata": {},
      "source": [
        "### Agent 학습\n",
        "아래의 코드 블록을 실행하면 랜덤하게 초기화된 cartAgent가 강화학습을 시작한다."
      ]
    },
    {
      "cell_type": "code",
      "execution_count": null,
      "metadata": {
        "colab": {
          "base_uri": "https://localhost:8080/"
        },
        "id": "8LmIROgcE-iC",
        "outputId": "672188ed-8adc-4518-a35e-2104d14fb570"
      },
      "outputs": [],
      "source": [
        "cartAgent = DQNAgent(\n",
        "    input_dims=env.observation_space.shape, \n",
        "    l_rate=0.001, \n",
        "    gamma=0.98,\n",
        "    n_actions=env.action_space.n, \n",
        "    batch_size=64, \n",
        "    epsilon_start=1, \n",
        "    epsilon_decay=0.005,\n",
        "    epsilon_end=0.01,\n",
        "    replay_size=10000,\n",
        "    filename='cartpole-dqn'\n",
        ")\n",
        "\n",
        "scores, scores_avg = list(), list()\n",
        "prgress = tqdm(range(500))\n",
        "\n",
        "for episode in prgress:\n",
        "    # 환경 및 점수 초기화\n",
        "    score = 0\n",
        "    obs_this = env.reset()\n",
        "    done = False\n",
        "\n",
        "    while not done:\n",
        "        # Agent가 선택\n",
        "        action = cartAgent.choose_action(obs_this)\n",
        "        obs_next, reward, done, info = env.step(action)\n",
        "        cartAgent.store(obs_this, action, reward, obs_next, done)\n",
        "\n",
        "        # 보상 저장\n",
        "        score += reward\n",
        "        obs_this = obs_next\n",
        "        # env.render() # 렉 걸릴 경우 제외\n",
        "        \n",
        "        # Agent 학습\n",
        "        cartAgent.learn()\n",
        "\n",
        "    scores.append(score) # 점수 기록\n",
        "    scores_avg.append(np.mean(scores[-30:])) # 이동평균 산출\n",
        "    prgress.set_description(\"score {:>3.1f} | recent average score {:>3.1f} | epsilon {:>.2f}\"\n",
        "        .format(scores[-1], scores_avg[-1], cartAgent.eps))\n",
        "\n",
        "    if episode % 50 == 0: # 50 episode마다 모델을 저장\n",
        "        cartAgent.save_model()\n",
        "\n",
        "plt.plot(np.arange(len(scores_avg)), np.array(scores_avg)) # 이동평균 점수 그래프 그리기"
      ]
    },
    {
      "cell_type": "markdown",
      "metadata": {},
      "source": [
        "다음은 학습한 모델을 불러와 실행하는 블록이다."
      ]
    },
    {
      "cell_type": "code",
      "execution_count": 11,
      "metadata": {},
      "outputs": [
        {
          "name": "stderr",
          "output_type": "stream",
          "text": [
            "score 500.0 | recent average score 394.0 | epsilon 0.00: 100%|██████████| 5/5 [01:17<00:00, 15.47s/it]\n"
          ]
        },
        {
          "data": {
            "text/plain": [
              "[<matplotlib.lines.Line2D at 0x1dfb32883d0>]"
            ]
          },
          "execution_count": 11,
          "metadata": {},
          "output_type": "execute_result"
        },
        {
          "data": {
            "image/png": "[encoded data removed]",
            "text/plain": [
              "<Figure size 432x288 with 1 Axes>"
            ]
          },
          "metadata": {
            "needs_background": "light"
          },
          "output_type": "display_data"
        }
      ],
      "source": [
        "cartDeploy = DQNDeploy('cartpole-dqn')\n",
        "\n",
        "scores, scores_avg = list(), list()\n",
        "prgress = tqdm(range(5))\n",
        "\n",
        "for episode in prgress:\n",
        "    # 환경 및 점수 초기화\n",
        "    score = 0\n",
        "    obs_this = env.reset()\n",
        "    done = False\n",
        "\n",
        "    while not done:\n",
        "        # Agent가 선택\n",
        "        action = cartDeploy.choose_action(obs_this)\n",
        "        obs_next, reward, done, info = env.step(action)\n",
        "\n",
        "        # 보상 저장\n",
        "        score += reward\n",
        "        obs_this = obs_next\n",
        "        env.render() # 렉 걸릴 경우 제외\n",
        "\n",
        "    scores.append(score) # 점수 기록\n",
        "    scores_avg.append(np.mean(scores[-30:])) # 이동평균 산출\n",
        "    prgress.set_description(\"score {:>3.1f} | recent average score {:>3.1f} | epsilon {:>.2f}\"\n",
        "        .format(scores[-1], scores_avg[-1], cartDeploy.eps))\n",
        "\n",
        "plt.plot(np.arange(len(scores)), np.array(scores)) # 이동평균 점수 그래프 그리기"
      ]
    }
  ],
  "metadata": {
    "accelerator": "GPU",
    "colab": {
      "collapsed_sections": [],
      "name": "DQN.ipynb",
      "provenance": []
    },
    "interpreter": {
      "hash": "fe5c5529a470cf481d22924ed91de5c709ed4ff5a99c8b9a5a1fe3fe1062ceb2"
    },
    "kernelspec": {
      "display_name": "Python 3.9.7 64-bit ('MLTensor': conda)",
      "language": "python",
      "name": "python3"
    },
    "language_info": {
      "codemirror_mode": {
        "name": "ipython",
        "version": 3
      },
      "file_extension": ".py",
      "mimetype": "text/x-python",
      "name": "python",
      "nbconvert_exporter": "python",
      "pygments_lexer": "ipython3",
      "version": "3.9.7"
    },
    "orig_nbformat": 4
  },
  "nbformat": 4,
  "nbformat_minor": 0
}
